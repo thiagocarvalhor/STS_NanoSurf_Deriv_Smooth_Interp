{
 "cells": [
  {
   "cell_type": "code",
   "execution_count": 6,
   "metadata": {},
   "outputs": [],
   "source": [
    "#pip install pandas numpy matplotlib scipy ipywidgets fileupload\n"
   ]
  },
  {
   "cell_type": "code",
   "execution_count": 16,
   "metadata": {},
   "outputs": [
    {
     "data": {
      "application/vnd.jupyter.widget-view+json": {
       "model_id": "22c4e21474744f64bc062e9dfa284c4c",
       "version_major": 2,
       "version_minor": 0
      },
      "text/plain": [
       "interactive(children=(Dropdown(description='Arquivo CSV', options=('Thiago_COPRINUS_Au 02259_F.csv', 'Thiago_C…"
      ]
     },
     "metadata": {},
     "output_type": "display_data"
    },
    {
     "data": {
      "text/plain": [
       "<function __main__.suavizar_derivada_exportar(nome_arquivo, smooth, interpolação, nome_arquivo_exportacao_widget)>"
      ]
     },
     "execution_count": 16,
     "metadata": {},
     "output_type": "execute_result"
    }
   ],
   "source": [
    "import os\n",
    "import pandas as pd\n",
    "import numpy as np\n",
    "import matplotlib.pyplot as plt\n",
    "from scipy.signal import convolve\n",
    "from ipywidgets import interact, widgets\n",
    "\n",
    "# Seu caminho para a pasta que contém os arquivos CSV\n",
    "pasta_csv = 'Sua_Pasta'\n",
    "\n",
    "# Listar todos os arquivos CSV na pasta\n",
    "arquivos_csv = [arquivo for arquivo in os.listdir(pasta_csv) if arquivo.endswith('.csv')]\n",
    "\n",
    "# Função para suavizar a derivada e exportar dados\n",
    "def suavizar_derivada_exportar(nome_arquivo, smooth, interpolação, nome_arquivo_exportacao_widget):\n",
    "    # Construir o caminho completo para o arquivo CSV selecionado\n",
    "    caminho_arquivo = os.path.join(pasta_csv, nome_arquivo)\n",
    "\n",
    "    # Carregar o arquivo CSV\n",
    "    df = pd.read_csv(caminho_arquivo, header=None, names=['x', 'y'], delimiter=';')\n",
    "\n",
    "    # Extraindo os dados das colunas\n",
    "    x = df['x'].values.astype(float)\n",
    "    y = df['y'].values.astype(float)\n",
    "\n",
    "    # Calcular a derivada\n",
    "    derivada = np.gradient(y, x)\n",
    "\n",
    "    # Suaviazação Adjacent Averaging\n",
    "    derivada_suavizada = np.convolve(derivada, np.ones(smooth)/smooth, mode='same')\n",
    "\n",
    "    # Interpolar os dados suavizados usando polinômio\n",
    "    coef_interp = np.polyfit(x, derivada_suavizada, interpolação)\n",
    "    derivada_interp = np.polyval(coef_interp, x)\n",
    "\n",
    "    # Plotar o gráfico da derivada suavizada e interpolada\n",
    "    plt.plot(x, derivada_suavizada, label='Derivada Suavizada')\n",
    "    plt.plot(x, derivada_interp, label='Derivada Interpolada', linestyle='solid')\n",
    "\n",
    "    plt.xlabel('Bias (V)')\n",
    "    plt.ylabel('dI/dV')\n",
    "    plt.title('Gráfico da Derivada Suavizada e Interpolada')\n",
    "    plt.legend()\n",
    "    plt.show()\n",
    "\n",
    "    # Adicionar .txt ao nome do arquivo se não fornecido\n",
    "    nome_arquivo_exportacao = nome_arquivo_exportacao_widget if nome_arquivo_exportacao_widget.endswith('.txt') else nome_arquivo_exportacao_widget + '.txt'\n",
    "    \n",
    "    # Exibir botão para salvar os dados\n",
    "    btn_salvar = widgets.Button(description=\"Salvar Dados\")\n",
    "    \n",
    "    # Função para salvar os dados quando o botão é clicado\n",
    "    def salvar_dados(_):\n",
    "        min_length = min(len(x), len(y), len(derivada), len(derivada_suavizada), len(derivada_interp))\n",
    "        dados_exportacao = np.column_stack((x[:min_length], y[:min_length], derivada[:min_length], derivada_suavizada[:min_length], derivada_interp[:min_length]))\n",
    "        np.savetxt(nome_arquivo_exportacao, dados_exportacao, delimiter='\\t', header='x\\ty\\tderivada\\tderivada_suavizada\\tderivada_interp')\n",
    "        print(f'Dados exportados com sucesso para: {nome_arquivo_exportacao}')\n",
    "    \n",
    "    # Associar a função ao botão\n",
    "    btn_salvar.on_click(salvar_dados)\n",
    "    \n",
    "    # Exibir botão\n",
    "    display(btn_salvar)\n",
    "\n",
    "# Adicionar sliders interativos e campo de entrada de texto\n",
    "interact(suavizar_derivada_exportar, \n",
    "         nome_arquivo=widgets.Dropdown(options=arquivos_csv, description='Arquivo CSV'),\n",
    "         smooth=widgets.IntSlider(min=1, max=50, step=1, value=10),\n",
    "         interpolação=widgets.IntSlider(min=1, max=35, step=1, value=10),\n",
    "         nome_arquivo_exportacao_widget=widgets.Text(value='', description='Exportar'))\n"
   ]
  },
  {
   "cell_type": "code",
   "execution_count": null,
   "metadata": {},
   "outputs": [],
   "source": []
  }
 ],
 "metadata": {
  "kernelspec": {
   "display_name": "RP_Env",
   "language": "python",
   "name": "python3"
  },
  "language_info": {
   "codemirror_mode": {
    "name": "ipython",
    "version": 3
   },
   "file_extension": ".py",
   "mimetype": "text/x-python",
   "name": "python",
   "nbconvert_exporter": "python",
   "pygments_lexer": "ipython3",
   "version": "3.11.5"
  }
 },
 "nbformat": 4,
 "nbformat_minor": 2
}
